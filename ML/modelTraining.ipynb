{
 "cells": [
  {
   "cell_type": "code",
   "execution_count": 33,
   "metadata": {
    "collapsed": true
   },
   "outputs": [],
   "source": [
    "# import libraries\n",
    "import pandas as pd\n",
    "import numpy as np\n",
    "import matplotlib.pyplot as plt\n",
    "import sklearn as skl"
   ]
  },
  {
   "cell_type": "code",
   "execution_count": 38,
   "outputs": [
    {
     "name": "stdout",
     "output_type": "stream",
     "text": [
      "        CRIM    ZN  INDUS  CHAS    NOX     RM   AGE     DIS  RAD    TAX  \\\n",
      "0    0.00632  18.0   2.31   0.0  0.538  6.575  65.2  4.0900  1.0  296.0   \n",
      "1    0.02731   0.0   7.07   0.0  0.469  6.421  78.9  4.9671  2.0  242.0   \n",
      "2    0.02729   0.0   7.07   0.0  0.469  7.185  61.1  4.9671  2.0  242.0   \n",
      "3    0.03237   0.0   2.18   0.0  0.458  6.998  45.8  6.0622  3.0  222.0   \n",
      "4    0.06905   0.0   2.18   0.0  0.458  7.147  54.2  6.0622  3.0  222.0   \n",
      "..       ...   ...    ...   ...    ...    ...   ...     ...  ...    ...   \n",
      "501  0.06263   0.0  11.93   0.0  0.573  6.593  69.1  2.4786  1.0  273.0   \n",
      "502  0.04527   0.0  11.93   0.0  0.573  6.120  76.7  2.2875  1.0  273.0   \n",
      "503  0.06076   0.0  11.93   0.0  0.573  6.976  91.0  2.1675  1.0  273.0   \n",
      "504  0.10959   0.0  11.93   0.0  0.573  6.794  89.3  2.3889  1.0  273.0   \n",
      "505  0.04741   0.0  11.93   0.0  0.573  6.030  80.8  2.5050  1.0  273.0   \n",
      "\n",
      "     PTRATIO       B  LSTAT  \n",
      "0       15.3  396.90   4.98  \n",
      "1       17.8  396.90   9.14  \n",
      "2       17.8  392.83   4.03  \n",
      "3       18.7  394.63   2.94  \n",
      "4       18.7  396.90   5.33  \n",
      "..       ...     ...    ...  \n",
      "501     21.0  391.99   9.67  \n",
      "502     21.0  396.90   9.08  \n",
      "503     21.0  396.90   5.64  \n",
      "504     21.0  393.45   6.48  \n",
      "505     21.0  396.90   7.88  \n",
      "\n",
      "[506 rows x 13 columns]         0\n",
      "0    24.0\n",
      "1    21.6\n",
      "2    34.7\n",
      "3    33.4\n",
      "4    36.2\n",
      "..    ...\n",
      "501  22.4\n",
      "502  20.6\n",
      "503  23.9\n",
      "504  22.0\n",
      "505  11.9\n",
      "\n",
      "[506 rows x 1 columns]\n"
     ]
    }
   ],
   "source": [
    "# import the CSV data file into a dataframe\n",
    "dfX = pd.read_csv(\"bostonWeights.csv\")\n",
    "dfY = pd.read_csv(\"bostonTarget.csv\")\n",
    "\n",
    "# print new dataframe\n",
    "print(dfX, dfY)"
   ],
   "metadata": {
    "collapsed": false,
    "pycharm": {
     "name": "#%%\n"
    }
   }
  },
  {
   "cell_type": "code",
   "execution_count": 37,
   "outputs": [
    {
     "data": {
      "text/plain": "                0\ncount  506.000000\nmean    22.532806\nstd      9.197104\nmin      5.000000\n25%     17.025000\n50%     21.200000\n75%     25.000000\nmax     50.000000",
      "text/html": "<div>\n<style scoped>\n    .dataframe tbody tr th:only-of-type {\n        vertical-align: middle;\n    }\n\n    .dataframe tbody tr th {\n        vertical-align: top;\n    }\n\n    .dataframe thead th {\n        text-align: right;\n    }\n</style>\n<table border=\"1\" class=\"dataframe\">\n  <thead>\n    <tr style=\"text-align: right;\">\n      <th></th>\n      <th>0</th>\n    </tr>\n  </thead>\n  <tbody>\n    <tr>\n      <th>count</th>\n      <td>506.000000</td>\n    </tr>\n    <tr>\n      <th>mean</th>\n      <td>22.532806</td>\n    </tr>\n    <tr>\n      <th>std</th>\n      <td>9.197104</td>\n    </tr>\n    <tr>\n      <th>min</th>\n      <td>5.000000</td>\n    </tr>\n    <tr>\n      <th>25%</th>\n      <td>17.025000</td>\n    </tr>\n    <tr>\n      <th>50%</th>\n      <td>21.200000</td>\n    </tr>\n    <tr>\n      <th>75%</th>\n      <td>25.000000</td>\n    </tr>\n    <tr>\n      <th>max</th>\n      <td>50.000000</td>\n    </tr>\n  </tbody>\n</table>\n</div>"
     },
     "execution_count": 37,
     "metadata": {},
     "output_type": "execute_result"
    }
   ],
   "source": [
    "# gather stats about about final prices\n",
    "# MEDV is all times 1000 for actual price\n",
    "dfY.describe()"
   ],
   "metadata": {
    "collapsed": false,
    "pycharm": {
     "name": "#%%\n"
    }
   }
  },
  {
   "cell_type": "code",
   "execution_count": null,
   "outputs": [],
   "source": [
    "# gather stats about about the weights/features\n",
    "dfX.describe()"
   ],
   "metadata": {
    "collapsed": false,
    "pycharm": {
     "name": "#%%\n"
    }
   }
  },
  {
   "cell_type": "code",
   "execution_count": 43,
   "outputs": [],
   "source": [
    "# split the data frames into two sub frames\n",
    "# these are the  train and test sets\n",
    "# it returns a tuple of 4 sets\n",
    "xTrain, xTest, yTrain, yTest = skl.model_selection.train_test_split(\n",
    "    dfX, dfY, test_size=0.20, random_state=42 )"
   ],
   "metadata": {
    "collapsed": false,
    "pycharm": {
     "name": "#%%\n"
    }
   }
  },
  {
   "cell_type": "code",
   "execution_count": 44,
   "outputs": [
    {
     "name": "stdout",
     "output_type": "stream",
     "text": [
      "         CRIM    ZN  INDUS  CHAS     NOX     RM   AGE     DIS   RAD    TAX  \\\n",
      "477  15.02340   0.0  18.10   0.0  0.6140  5.304  97.3  2.1007  24.0  666.0   \n",
      "15    0.62739   0.0   8.14   0.0  0.5380  5.834  56.5  4.4986   4.0  307.0   \n",
      "332   0.03466  35.0   6.06   0.0  0.4379  6.031  23.3  6.6407   1.0  304.0   \n",
      "423   7.05042   0.0  18.10   0.0  0.6140  6.103  85.1  2.0218  24.0  666.0   \n",
      "19    0.72580   0.0   8.14   0.0  0.5380  5.727  69.5  3.7965   4.0  307.0   \n",
      "..        ...   ...    ...   ...     ...    ...   ...     ...   ...    ...   \n",
      "106   0.17120   0.0   8.56   0.0  0.5200  5.836  91.9  2.2110   5.0  384.0   \n",
      "270   0.29916  20.0   6.96   0.0  0.4640  5.856  42.1  4.4290   3.0  223.0   \n",
      "348   0.01501  80.0   2.01   0.0  0.4350  6.635  29.7  8.3440   4.0  280.0   \n",
      "435  11.16040   0.0  18.10   0.0  0.7400  6.629  94.6  2.1247  24.0  666.0   \n",
      "102   0.22876   0.0   8.56   0.0  0.5200  6.405  85.4  2.7147   5.0  384.0   \n",
      "\n",
      "     PTRATIO       B  LSTAT  \n",
      "477     20.2  349.48  24.91  \n",
      "15      21.0  395.62   8.47  \n",
      "332     16.9  362.25   7.83  \n",
      "423     20.2    2.52  23.29  \n",
      "19      21.0  390.95  11.28  \n",
      "..       ...     ...    ...  \n",
      "106     20.9  395.67  18.66  \n",
      "270     18.6  388.65  13.00  \n",
      "348     17.0  390.94   5.99  \n",
      "435     20.2  109.85  23.27  \n",
      "102     20.9   70.80  10.63  \n",
      "\n",
      "[404 rows x 13 columns]          CRIM    ZN  INDUS  CHAS    NOX     RM    AGE     DIS   RAD    TAX  \\\n",
      "173   0.09178   0.0   4.05   0.0  0.510  6.416   84.1  2.6463   5.0  296.0   \n",
      "274   0.05644  40.0   6.41   1.0  0.447  6.758   32.9  4.0776   4.0  254.0   \n",
      "491   0.10574   0.0  27.74   0.0  0.609  5.983   98.8  1.8681   4.0  711.0   \n",
      "72    0.09164   0.0  10.81   0.0  0.413  6.065    7.8  5.2873   4.0  305.0   \n",
      "452   5.09017   0.0  18.10   0.0  0.713  6.297   91.8  2.3682  24.0  666.0   \n",
      "..        ...   ...    ...   ...    ...    ...    ...     ...   ...    ...   \n",
      "412  18.81100   0.0  18.10   0.0  0.597  4.628  100.0  1.5539  24.0  666.0   \n",
      "436  14.42080   0.0  18.10   0.0  0.740  6.461   93.3  2.0026  24.0  666.0   \n",
      "411  14.05070   0.0  18.10   0.0  0.597  6.657  100.0  1.5275  24.0  666.0   \n",
      "86    0.05188   0.0   4.49   0.0  0.449  6.015   45.1  4.4272   3.0  247.0   \n",
      "75    0.09512   0.0  12.83   0.0  0.437  6.286   45.0  4.5026   5.0  398.0   \n",
      "\n",
      "     PTRATIO       B  LSTAT  \n",
      "173     16.6  395.50   9.04  \n",
      "274     17.6  396.90   3.53  \n",
      "491     20.1  390.11  18.07  \n",
      "72      19.2  390.91   5.52  \n",
      "452     20.2  385.09  17.27  \n",
      "..       ...     ...    ...  \n",
      "412     20.2   28.79  34.37  \n",
      "436     20.2   27.49  18.05  \n",
      "411     20.2   35.05  21.22  \n",
      "86      18.5  395.99  12.86  \n",
      "75      18.7  383.23   8.94  \n",
      "\n",
      "[102 rows x 13 columns]         0\n",
      "477  12.0\n",
      "15   19.9\n",
      "332  19.4\n",
      "423  13.4\n",
      "19   18.2\n",
      "..    ...\n",
      "106  19.5\n",
      "270  21.1\n",
      "348  24.5\n",
      "435  13.4\n",
      "102  18.6\n",
      "\n",
      "[404 rows x 1 columns]         0\n",
      "173  23.6\n",
      "274  32.4\n",
      "491  13.6\n",
      "72   22.8\n",
      "452  16.1\n",
      "..    ...\n",
      "412  17.9\n",
      "436   9.6\n",
      "411  17.2\n",
      "86   22.5\n",
      "75   21.4\n",
      "\n",
      "[102 rows x 1 columns]\n"
     ]
    }
   ],
   "source": [
    "# print out each to check that it worked\n",
    "print(xTrain, xTest, yTrain, yTest)"
   ],
   "metadata": {
    "collapsed": false,
    "pycharm": {
     "name": "#%%\n"
    }
   }
  },
  {
   "cell_type": "code",
   "execution_count": 45,
   "outputs": [],
   "source": [
    "# assign and train linear regression model\n",
    "lin = skl.linear_model.LinearRegression().fit(xTrain, yTrain)"
   ],
   "metadata": {
    "collapsed": false,
    "pycharm": {
     "name": "#%%\n"
    }
   }
  },
  {
   "cell_type": "code",
   "execution_count": 46,
   "outputs": [
    {
     "data": {
      "text/plain": "0.7508856358979672"
     },
     "execution_count": 46,
     "metadata": {},
     "output_type": "execute_result"
    }
   ],
   "source": [
    "# get score\n",
    "lin.score(xTrain, yTrain)"
   ],
   "metadata": {
    "collapsed": false,
    "pycharm": {
     "name": "#%%\n"
    }
   }
  },
  {
   "cell_type": "code",
   "execution_count": 49,
   "outputs": [
    {
     "data": {
      "text/plain": "array([[28.99672362],\n       [36.02556534],\n       [14.81694405],\n       [25.03197915],\n       [18.76987992],\n       [23.25442929],\n       [17.66253818],\n       [14.34119   ],\n       [23.01320703],\n       [20.63245597],\n       [24.90850512],\n       [18.63883645],\n       [-6.08842184],\n       [21.75834668],\n       [19.23922576],\n       [26.19319733],\n       [20.64773313],\n       [ 5.79472718],\n       [40.50033966],\n       [17.61289074],\n       [27.24909479],\n       [30.06625441],\n       [11.34179277],\n       [24.16077616],\n       [17.86058499],\n       [15.83609765],\n       [22.78148106],\n       [14.57704449],\n       [22.43626052],\n       [19.19631835],\n       [22.43383455],\n       [25.21979081],\n       [25.93909562],\n       [17.70162434],\n       [16.76911711],\n       [16.95125411],\n       [31.23340153],\n       [20.13246729],\n       [23.76579011],\n       [24.6322925 ],\n       [13.94204955],\n       [32.25576301],\n       [42.67251161],\n       [17.32745046],\n       [27.27618614],\n       [16.99310991],\n       [14.07009109],\n       [25.90341861],\n       [20.29485982],\n       [29.95339638],\n       [21.28860173],\n       [34.34451856],\n       [16.04739105],\n       [26.22562412],\n       [39.53939798],\n       [22.57950697],\n       [18.84531367],\n       [32.72531661],\n       [25.0673037 ],\n       [12.88628956],\n       [22.68221908],\n       [30.48287757],\n       [31.52626806],\n       [15.90148607],\n       [20.22094826],\n       [16.71089812],\n       [20.52384893],\n       [25.96356264],\n       [30.61607978],\n       [11.59783023],\n       [20.51232627],\n       [27.48111878],\n       [11.01962332],\n       [15.68096344],\n       [23.79316251],\n       [ 6.19929359],\n       [21.6039073 ],\n       [41.41377225],\n       [18.76548695],\n       [ 8.87931901],\n       [20.83076916],\n       [13.25620627],\n       [20.73963699],\n       [ 9.36482222],\n       [23.22444271],\n       [31.9155003 ],\n       [19.10228271],\n       [25.51579303],\n       [29.04256769],\n       [20.14358566],\n       [25.5859787 ],\n       [ 5.70159447],\n       [20.09474756],\n       [14.95069156],\n       [12.50395648],\n       [20.72635294],\n       [24.73957161],\n       [-0.164237  ],\n       [13.68486682],\n       [16.18359697],\n       [22.27621999],\n       [24.47902364]])"
     },
     "execution_count": 49,
     "metadata": {},
     "output_type": "execute_result"
    }
   ],
   "source": [
    "# predict y values for test set\n",
    "lin.predict(xTest)"
   ],
   "metadata": {
    "collapsed": false,
    "pycharm": {
     "name": "#%%\n"
    }
   }
  },
  {
   "cell_type": "code",
   "execution_count": 50,
   "outputs": [
    {
     "name": "stdout",
     "output_type": "stream",
     "text": [
      "        0\n",
      "173  23.6\n",
      "274  32.4\n",
      "491  13.6\n",
      "72   22.8\n",
      "452  16.1\n",
      "..    ...\n",
      "412  17.9\n",
      "436   9.6\n",
      "411  17.2\n",
      "86   22.5\n",
      "75   21.4\n",
      "\n",
      "[102 rows x 1 columns]\n"
     ]
    }
   ],
   "source": [
    "print(yTest)\n",
    "\n"
   ],
   "metadata": {
    "collapsed": false,
    "pycharm": {
     "name": "#%%\n"
    }
   }
  }
 ],
 "metadata": {
  "kernelspec": {
   "display_name": "Python 3",
   "language": "python",
   "name": "python3"
  },
  "language_info": {
   "codemirror_mode": {
    "name": "ipython",
    "version": 2
   },
   "file_extension": ".py",
   "mimetype": "text/x-python",
   "name": "python",
   "nbconvert_exporter": "python",
   "pygments_lexer": "ipython2",
   "version": "2.7.6"
  }
 },
 "nbformat": 4,
 "nbformat_minor": 0
}